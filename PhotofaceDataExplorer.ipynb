{
 "cells": [
  {
   "cell_type": "code",
   "execution_count": 5,
   "metadata": {},
   "outputs": [
    {
     "name": "stdout",
     "output_type": "stream",
     "text": [
      "[['male', 'no', 'none', '1', 'ok', '', 'blankstare'], ['male', 'no', 'none', '1', 'ok', '', 'blankstare'], ['male', 'no', 'none', '1', 'ok', '', 'blankstare'], ['male', 'no', 'none', '1', 'ok', '', 'blankstare'], ['male', 'no', 'none', '1', 'ok', '', 'positive'], ['male', 'no', 'none', '1', 'ok', '', 'blankstare'], ['male', 'no', 'both', '1', 'ok', '', 'blankstare'], ['male', 'no', 'both', '1', 'ok', '', 'emoOther'], ['male', 'no', 'moustache', '1', 'ok', '', 'positive'], ['male', 'no', 'stubble', '1', 'blur', '', 'blankstare'], ['male', 'no', 'none', '1', 'ok', '', 'blankstare'], ['male', 'no', 'none', '1', 'ok', '', 'positive'], ['male', 'no', 'none', '1', 'ok', '-other', 'blankstare'], ['male', 'no', 'none', '1', 'ok', '-other', 'blankstare'], ['male', 'no', 'stubble', '1', 'ok', '', 'positive'], ['male', 'no', 'stubble', '1', 'ok', '', 'positive'], ['male', 'no', 'both', '1', 'ok', '', 'blankstare'], ['male', 'no', 'both', '1', 'ok', '', 'blankstare'], ['male', 'no', 'stubble', '1', 'ok', '', 'blankstare'], ['male', 'no', 'stubble', '1', 'ok', '', 'blankstare'], ['male', 'yes', 'none', '1', 'ok', '', 'blankstare'], ['male', 'yes', 'none', '1', 'ok', '', 'blankstare'], ['male', 'yes', 'none', '1', 'ok', '', 'blankstare'], ['male', 'yes', 'none', '1', 'ok', '', 'blankstare'], ['male', 'no', 'none', '1', 'blur', '', 'blankstare'], ['male', 'no', 'none', '1', 'ok', '', 'emoOther'], ['male', 'yes', 'moustache', '2', 'ok', '', 'blankstare'], ['male', 'yes', 'moustache', '1', 'ok', '', 'blankstare'], ['male', 'no', 'both', '1', 'ok', '', 'blankstare'], ['male', 'no', 'both', '1', 'ok', '', 'blankstare'], ['male', 'no', 'none', '2', 'ok', '', 'blankstare'], ['male', 'no', 'none', '1', 'ok', '', 'positive'], ['male', 'yes', 'none', '1', 'ok', '', 'blankstare'], ['male', 'yes', 'none', '1', 'ok', '', 'blankstare'], ['female', 'no', 'none', '1', 'blur', '', 'positive'], ['female', 'no', 'none', '1', 'blur', '', 'positive']]\n",
      "Stored 'metaData' (list)\n"
     ]
    }
   ],
   "source": [
    "import os\n",
    "\n",
    "rootDir = '/home/arthur/faceSample' # The directory of the photoface database\n",
    "metaData = []\n",
    "\n",
    "# Traverse the directory structure of the photo face database to get the meta data for each session\n",
    "for iDir, subjectDirs, files in os.walk(rootDir): # Each subject\n",
    "    for subjectDir in subjectDirs:\n",
    "        subjectPath = os.path.join(rootDir, subjectDir)\n",
    "        for jDir, sessionDirs, subjectFiles in os.walk(subjectPath): # Each session\n",
    "            for sessionDir in sessionDirs:\n",
    "                sessionPath = os.path.join(subjectPath, sessionDir)\n",
    "                metaFilePath = sessionPath + '/metadataII.txt'\n",
    "                if os.path.isfile(metaFilePath):\n",
    "                    sessionMeta = open(metaFilePath).read().split(',') # Extract the meta data as csv values into a list\n",
    "                    sessionMeta = list(map(lambda s: s.strip(), sessionMeta)) # Remove white spaces\n",
    "                    metaData.append(sessionMeta[:7]) # Take 7 elements as the last one is \\n\n",
    "\n",
    "print(metaData) # Print the meta data values to see their structure\n",
    "%store metaData"
   ]
  },
  {
   "cell_type": "markdown",
   "metadata": {},
   "source": [
    "Now that we have a list of all the session's meta values, lets aggregate the values to totals"
   ]
  },
  {
   "cell_type": "code",
   "execution_count": 13,
   "metadata": {},
   "outputs": [
    {
     "name": "stdout",
     "output_type": "stream",
     "text": [
      "{'facialHair': {'moustache': 3, 'both': 6, 'stubble': 5, 'beard': 0, 'none': 22}, 'spectacles': {'yes': 8, 'no': 28}, 'gender': {'female': 2, 'male': 34}, 'emotion': {'positive': 8, 'eyes closed': 0, 'negative': 0, 'blankstare': 26, 'mouth ajar': 0, '-other': 0, 'emoOther': 2}, 'quality': {'ok': 32, 'dark': 0, 'blur': 4}, 'pose': {'3': 0, '1': 34, '2': 2, '5': 0, '4': 0}, 'occlusion': {'hair': 0, '': 34, '-other': 2, 'hand': 0, 'Mobile Phone': 0}}\n"
     ]
    }
   ],
   "source": [
    "def generateEmptyTotals():\n",
    "    gender = {'male': 0, 'female': 0}\n",
    "    spectacles = {'no': 0, 'yes': 0}\n",
    "    facialHair = {'none': 0, 'beard': 0, 'moustache': 0, 'both': 0, 'stubble': 0}\n",
    "    pose = {'1': 0, '2': 0, '3': 0, '4': 0, '5': 0}\n",
    "    quality = {'ok': 0, 'blur': 0, 'dark': 0}\n",
    "    occlusion = {'Mobile Phone': 0, 'hand': 0, 'hair': 0, '-other': 0, '': 0}\n",
    "    emotion = {'blankstare': 0, 'positive': 0, 'negative': 0, '-other': 0, 'mouth ajar': 0, 'eyes closed': 0, 'emoOther': 0}\n",
    "    return {\n",
    "        'gender': gender,\n",
    "        'spectacles': spectacles,\n",
    "        'facialHair': facialHair,\n",
    "        'pose': pose,\n",
    "        'quality': quality,\n",
    "        'occlusion': occlusion,\n",
    "        'emotion': emotion\n",
    "    }\n",
    "\n",
    "\n",
    "%store -r metaData\n",
    "totals = generateEmptyTotals()\n",
    "for metaValues in metaData:\n",
    "    totals['gender'][metaValues[0]] += 1\n",
    "    totals['spectacles'][metaValues[1]] += 1\n",
    "    totals['facialHair'][metaValues[2]] += 1\n",
    "    totals['pose'][metaValues[3]] += 1\n",
    "    totals['quality'][metaValues[4]] += 1\n",
    "    totals['occlusion'][metaValues[5]] += 1\n",
    "    totals['emotion'][metaValues[6]] += 1\n",
    "\n",
    "print(totals)"
   ]
  },
  {
   "cell_type": "code",
   "execution_count": null,
   "metadata": {
    "collapsed": true
   },
   "outputs": [],
   "source": []
  }
 ],
 "metadata": {
  "kernelspec": {
   "display_name": "Python 3",
   "language": "python",
   "name": "python3"
  },
  "language_info": {
   "codemirror_mode": {
    "name": "ipython",
    "version": 3
   },
   "file_extension": ".py",
   "mimetype": "text/x-python",
   "name": "python",
   "nbconvert_exporter": "python",
   "pygments_lexer": "ipython3",
   "version": "3.5.3"
  }
 },
 "nbformat": 4,
 "nbformat_minor": 2
}
