{
 "cells": [
  {
   "cell_type": "markdown",
   "metadata": {},
   "source": [
    "# Photoface Data Explorer\n",
    "\n",
    "### The purpose of this notebook is to explore the data of the photoface database. Here we process the database structure to extract its meta content and visualise the spread of the data"
   ]
  },
  {
   "cell_type": "markdown",
   "metadata": {},
   "source": [
    "1) First, lets traverse the directory structure of the database and extract all of its meta data"
   ]
  },
  {
   "cell_type": "code",
   "execution_count": 1,
   "metadata": {},
   "outputs": [
    {
     "name": "stdout",
     "output_type": "stream",
     "text": [
      "[['male', 'no', 'none', '1', 'ok', '', 'blankstare'], ['male', 'no', 'none', '1', 'ok', '', 'blankstare'], ['male', 'no', 'none', '1', 'ok', '', 'blankstare'], ['male', 'no', 'none', '1', 'ok', '', 'blankstare'], ['male', 'no', 'none', '1', 'ok', '', 'positive'], ['male', 'no', 'none', '1', 'ok', '', 'blankstare'], ['male', 'no', 'both', '1', 'ok', '', 'blankstare'], ['male', 'no', 'both', '1', 'ok', '', 'emoOther'], ['male', 'no', 'moustache', '1', 'ok', '', 'positive'], ['male', 'no', 'stubble', '1', 'blur', '', 'blankstare'], ['male', 'no', 'none', '1', 'ok', '', 'blankstare'], ['male', 'no', 'none', '1', 'ok', '', 'positive'], ['male', 'no', 'none', '1', 'ok', '-other', 'blankstare'], ['male', 'no', 'none', '1', 'ok', '-other', 'blankstare'], ['male', 'no', 'stubble', '1', 'ok', '', 'positive'], ['male', 'no', 'stubble', '1', 'ok', '', 'positive'], ['male', 'no', 'both', '1', 'ok', '', 'blankstare'], ['male', 'no', 'both', '1', 'ok', '', 'blankstare'], ['male', 'no', 'stubble', '1', 'ok', '', 'blankstare'], ['male', 'no', 'stubble', '1', 'ok', '', 'blankstare'], ['male', 'yes', 'none', '1', 'ok', '', 'blankstare'], ['male', 'yes', 'none', '1', 'ok', '', 'blankstare'], ['male', 'yes', 'none', '1', 'ok', '', 'blankstare'], ['male', 'yes', 'none', '1', 'ok', '', 'blankstare'], ['male', 'no', 'none', '1', 'blur', '', 'blankstare'], ['male', 'no', 'none', '1', 'ok', '', 'emoOther'], ['male', 'yes', 'moustache', '2', 'ok', '', 'blankstare'], ['male', 'yes', 'moustache', '1', 'ok', '', 'blankstare'], ['male', 'no', 'both', '1', 'ok', '', 'blankstare'], ['male', 'no', 'both', '1', 'ok', '', 'blankstare'], ['male', 'no', 'none', '2', 'ok', '', 'blankstare'], ['male', 'no', 'none', '1', 'ok', '', 'positive'], ['male', 'yes', 'none', '1', 'ok', '', 'blankstare'], ['male', 'yes', 'none', '1', 'ok', '', 'blankstare'], ['female', 'no', 'none', '1', 'blur', '', 'positive'], ['female', 'no', 'none', '1', 'blur', '', 'positive']]\n",
      "Stored 'metaData' (list)\n"
     ]
    }
   ],
   "source": [
    "import os\n",
    "\n",
    "rootDir = '/home/arthur/faceSample' # The directory of the photoface database\n",
    "metaData = []\n",
    "\n",
    "\n",
    "# Traverse the directory structure of the photo face database to get the meta data for each session\n",
    "# Each subject\n",
    "for iDir, subjectDirs, files in os.walk(rootDir):\n",
    "    for subjectDir in subjectDirs:\n",
    "        subjectPath = os.path.join(rootDir, subjectDir)\n",
    "        # Each session\n",
    "        for jDir, sessionDirs, subjectFiles in os.walk(subjectPath):\n",
    "            for sessionDir in sessionDirs:\n",
    "                sessionPath = os.path.join(subjectPath, sessionDir)\n",
    "                metaFilePath = sessionPath + '/metadataII.txt'\n",
    "                if os.path.isfile(metaFilePath):\n",
    "                    # Extract the meta data as csv values into a list\n",
    "                    sessionMeta = open(metaFilePath).read().split(',')\n",
    "                    # Remove white spaces\n",
    "                    sessionMeta = list(map(lambda s: s.strip(), sessionMeta))\n",
    "                    # Take 7 elements as the last one is \\n\n",
    "                    metaData.append(sessionMeta[:7])\n",
    "                    \n",
    "# Print the meta data values to see their structure\n",
    "print(metaData)\n",
    "%store metaData"
   ]
  },
  {
   "cell_type": "markdown",
   "metadata": {},
   "source": [
    "2) Now that we have a list of all the session's meta values, lets aggregate the values to totals"
   ]
  },
  {
   "cell_type": "code",
   "execution_count": 2,
   "metadata": {},
   "outputs": [
    {
     "data": {
      "text/html": [
       "<div>\n",
       "<style>\n",
       "    .dataframe thead tr:only-child th {\n",
       "        text-align: right;\n",
       "    }\n",
       "\n",
       "    .dataframe thead th {\n",
       "        text-align: left;\n",
       "    }\n",
       "\n",
       "    .dataframe tbody tr th {\n",
       "        vertical-align: top;\n",
       "    }\n",
       "</style>\n",
       "<table border=\"1\" class=\"dataframe\">\n",
       "  <thead>\n",
       "    <tr style=\"text-align: right;\">\n",
       "      <th></th>\n",
       "      <th>gender</th>\n",
       "      <th>spectacles</th>\n",
       "      <th>facialHair</th>\n",
       "      <th>pose</th>\n",
       "      <th>quality</th>\n",
       "      <th>occlusion</th>\n",
       "      <th>emotion</th>\n",
       "    </tr>\n",
       "  </thead>\n",
       "  <tbody>\n",
       "    <tr>\n",
       "      <th>0</th>\n",
       "      <td>male</td>\n",
       "      <td>no</td>\n",
       "      <td>none</td>\n",
       "      <td>1</td>\n",
       "      <td>ok</td>\n",
       "      <td></td>\n",
       "      <td>blankstare</td>\n",
       "    </tr>\n",
       "    <tr>\n",
       "      <th>1</th>\n",
       "      <td>male</td>\n",
       "      <td>no</td>\n",
       "      <td>none</td>\n",
       "      <td>1</td>\n",
       "      <td>ok</td>\n",
       "      <td></td>\n",
       "      <td>blankstare</td>\n",
       "    </tr>\n",
       "    <tr>\n",
       "      <th>2</th>\n",
       "      <td>male</td>\n",
       "      <td>no</td>\n",
       "      <td>none</td>\n",
       "      <td>1</td>\n",
       "      <td>ok</td>\n",
       "      <td></td>\n",
       "      <td>blankstare</td>\n",
       "    </tr>\n",
       "    <tr>\n",
       "      <th>3</th>\n",
       "      <td>male</td>\n",
       "      <td>no</td>\n",
       "      <td>none</td>\n",
       "      <td>1</td>\n",
       "      <td>ok</td>\n",
       "      <td></td>\n",
       "      <td>blankstare</td>\n",
       "    </tr>\n",
       "    <tr>\n",
       "      <th>4</th>\n",
       "      <td>male</td>\n",
       "      <td>no</td>\n",
       "      <td>none</td>\n",
       "      <td>1</td>\n",
       "      <td>ok</td>\n",
       "      <td></td>\n",
       "      <td>positive</td>\n",
       "    </tr>\n",
       "    <tr>\n",
       "      <th>5</th>\n",
       "      <td>male</td>\n",
       "      <td>no</td>\n",
       "      <td>none</td>\n",
       "      <td>1</td>\n",
       "      <td>ok</td>\n",
       "      <td></td>\n",
       "      <td>blankstare</td>\n",
       "    </tr>\n",
       "    <tr>\n",
       "      <th>6</th>\n",
       "      <td>male</td>\n",
       "      <td>no</td>\n",
       "      <td>both</td>\n",
       "      <td>1</td>\n",
       "      <td>ok</td>\n",
       "      <td></td>\n",
       "      <td>blankstare</td>\n",
       "    </tr>\n",
       "    <tr>\n",
       "      <th>7</th>\n",
       "      <td>male</td>\n",
       "      <td>no</td>\n",
       "      <td>both</td>\n",
       "      <td>1</td>\n",
       "      <td>ok</td>\n",
       "      <td></td>\n",
       "      <td>emoOther</td>\n",
       "    </tr>\n",
       "    <tr>\n",
       "      <th>8</th>\n",
       "      <td>male</td>\n",
       "      <td>no</td>\n",
       "      <td>moustache</td>\n",
       "      <td>1</td>\n",
       "      <td>ok</td>\n",
       "      <td></td>\n",
       "      <td>positive</td>\n",
       "    </tr>\n",
       "    <tr>\n",
       "      <th>9</th>\n",
       "      <td>male</td>\n",
       "      <td>no</td>\n",
       "      <td>stubble</td>\n",
       "      <td>1</td>\n",
       "      <td>blur</td>\n",
       "      <td></td>\n",
       "      <td>blankstare</td>\n",
       "    </tr>\n",
       "    <tr>\n",
       "      <th>10</th>\n",
       "      <td>male</td>\n",
       "      <td>no</td>\n",
       "      <td>none</td>\n",
       "      <td>1</td>\n",
       "      <td>ok</td>\n",
       "      <td></td>\n",
       "      <td>blankstare</td>\n",
       "    </tr>\n",
       "    <tr>\n",
       "      <th>11</th>\n",
       "      <td>male</td>\n",
       "      <td>no</td>\n",
       "      <td>none</td>\n",
       "      <td>1</td>\n",
       "      <td>ok</td>\n",
       "      <td></td>\n",
       "      <td>positive</td>\n",
       "    </tr>\n",
       "    <tr>\n",
       "      <th>12</th>\n",
       "      <td>male</td>\n",
       "      <td>no</td>\n",
       "      <td>none</td>\n",
       "      <td>1</td>\n",
       "      <td>ok</td>\n",
       "      <td>-other</td>\n",
       "      <td>blankstare</td>\n",
       "    </tr>\n",
       "    <tr>\n",
       "      <th>13</th>\n",
       "      <td>male</td>\n",
       "      <td>no</td>\n",
       "      <td>none</td>\n",
       "      <td>1</td>\n",
       "      <td>ok</td>\n",
       "      <td>-other</td>\n",
       "      <td>blankstare</td>\n",
       "    </tr>\n",
       "    <tr>\n",
       "      <th>14</th>\n",
       "      <td>male</td>\n",
       "      <td>no</td>\n",
       "      <td>stubble</td>\n",
       "      <td>1</td>\n",
       "      <td>ok</td>\n",
       "      <td></td>\n",
       "      <td>positive</td>\n",
       "    </tr>\n",
       "    <tr>\n",
       "      <th>15</th>\n",
       "      <td>male</td>\n",
       "      <td>no</td>\n",
       "      <td>stubble</td>\n",
       "      <td>1</td>\n",
       "      <td>ok</td>\n",
       "      <td></td>\n",
       "      <td>positive</td>\n",
       "    </tr>\n",
       "    <tr>\n",
       "      <th>16</th>\n",
       "      <td>male</td>\n",
       "      <td>no</td>\n",
       "      <td>both</td>\n",
       "      <td>1</td>\n",
       "      <td>ok</td>\n",
       "      <td></td>\n",
       "      <td>blankstare</td>\n",
       "    </tr>\n",
       "    <tr>\n",
       "      <th>17</th>\n",
       "      <td>male</td>\n",
       "      <td>no</td>\n",
       "      <td>both</td>\n",
       "      <td>1</td>\n",
       "      <td>ok</td>\n",
       "      <td></td>\n",
       "      <td>blankstare</td>\n",
       "    </tr>\n",
       "    <tr>\n",
       "      <th>18</th>\n",
       "      <td>male</td>\n",
       "      <td>no</td>\n",
       "      <td>stubble</td>\n",
       "      <td>1</td>\n",
       "      <td>ok</td>\n",
       "      <td></td>\n",
       "      <td>blankstare</td>\n",
       "    </tr>\n",
       "    <tr>\n",
       "      <th>19</th>\n",
       "      <td>male</td>\n",
       "      <td>no</td>\n",
       "      <td>stubble</td>\n",
       "      <td>1</td>\n",
       "      <td>ok</td>\n",
       "      <td></td>\n",
       "      <td>blankstare</td>\n",
       "    </tr>\n",
       "  </tbody>\n",
       "</table>\n",
       "</div>"
      ],
      "text/plain": [
       "   gender spectacles facialHair pose quality occlusion     emotion\n",
       "0    male         no       none    1      ok            blankstare\n",
       "1    male         no       none    1      ok            blankstare\n",
       "2    male         no       none    1      ok            blankstare\n",
       "3    male         no       none    1      ok            blankstare\n",
       "4    male         no       none    1      ok              positive\n",
       "5    male         no       none    1      ok            blankstare\n",
       "6    male         no       both    1      ok            blankstare\n",
       "7    male         no       both    1      ok              emoOther\n",
       "8    male         no  moustache    1      ok              positive\n",
       "9    male         no    stubble    1    blur            blankstare\n",
       "10   male         no       none    1      ok            blankstare\n",
       "11   male         no       none    1      ok              positive\n",
       "12   male         no       none    1      ok    -other  blankstare\n",
       "13   male         no       none    1      ok    -other  blankstare\n",
       "14   male         no    stubble    1      ok              positive\n",
       "15   male         no    stubble    1      ok              positive\n",
       "16   male         no       both    1      ok            blankstare\n",
       "17   male         no       both    1      ok            blankstare\n",
       "18   male         no    stubble    1      ok            blankstare\n",
       "19   male         no    stubble    1      ok            blankstare"
      ]
     },
     "metadata": {},
     "output_type": "display_data"
    },
    {
     "name": "stdout",
     "output_type": "stream",
     "text": [
      "Stored 'totals' (dict)\n"
     ]
    }
   ],
   "source": [
    "from pandas import DataFrame\n",
    "from IPython.display import display, HTML\n",
    "\n",
    "def generateEmptyTotals():\n",
    "    gender = {'male': 0, 'female': 0}\n",
    "    spectacles = {'no': 0, 'yes': 0}\n",
    "    facialHair = {'none': 0, 'beard': 0, 'moustache': 0, 'both': 0, 'stubble': 0}\n",
    "    pose = {'1': 0, '2': 0, '3': 0, '4': 0, '5': 0}\n",
    "    quality = {'ok': 0, 'blur': 0, 'dark': 0}\n",
    "    occlusion = {'Mobile Phone': 0, 'hand': 0, 'hair': 0, '-other': 0, '': 0}\n",
    "    emotion = {'blankstare': 0, 'positive': 0, 'negative': 0, '-other': 0, 'mouth ajar': 0, 'eyes closed': 0, 'emoOther': 0}\n",
    "    return {\n",
    "        'gender': gender,\n",
    "        'spectacles': spectacles,\n",
    "        'facialHair': facialHair,\n",
    "        'pose': pose,\n",
    "        'quality': quality,\n",
    "        'occlusion': occlusion,\n",
    "        'emotion': emotion\n",
    "    }\n",
    "\n",
    "\n",
    "%store -r metaData\n",
    "df = DataFrame(data=metaData)\n",
    "df.columns = ['gender', 'spectacles', 'facialHair', 'pose', 'quality', 'occlusion', 'emotion']\n",
    "display(df[:20])\n",
    "totals = generateEmptyTotals()\n",
    "for metaValues in metaData:\n",
    "    totals['gender'][metaValues[0]] += 1\n",
    "    totals['spectacles'][metaValues[1]] += 1\n",
    "    totals['facialHair'][metaValues[2]] += 1\n",
    "    totals['pose'][metaValues[3]] += 1\n",
    "    totals['quality'][metaValues[4]] += 1\n",
    "    totals['occlusion'][metaValues[5]] += 1\n",
    "    totals['emotion'][metaValues[6]] += 1\n",
    "\n",
    "%store totals\n",
    "%store -d metaData"
   ]
  },
  {
   "cell_type": "markdown",
   "metadata": {
    "collapsed": true
   },
   "source": [
    "3) Now that we have the meta aggregates, lets visualize these so we can get a feel for the spread of data"
   ]
  },
  {
   "cell_type": "code",
   "execution_count": 3,
   "metadata": {
    "collapsed": true
   },
   "outputs": [],
   "source": [
    "# This is a hack so that the IPython notebook can find my util module by adding the current working dir to its path\n",
    "import sys\n",
    "import os\n",
    "sys.path.append(os.path.abspath(os.path.join(os.getcwd(), os.pardir)))"
   ]
  },
  {
   "cell_type": "markdown",
   "metadata": {},
   "source": [
    "3 a) Firstly, lets see the propotion of males to females"
   ]
  },
  {
   "cell_type": "code",
   "execution_count": 4,
   "metadata": {},
   "outputs": [
    {
     "data": {
      "image/png": "[encoded data removed]",
      "text/plain": [
       "<matplotlib.figure.Figure at 0x7f7284131d30>"
      ]
     },
     "metadata": {},
     "output_type": "display_data"
    }
   ],
   "source": [
    "from util import plotHelper\n",
    "plotHelper.plotPie(totals['gender'])"
   ]
  },
  {
   "cell_type": "markdown",
   "metadata": {},
   "source": [
    "3 b) Now the distribution of subjects wearing glasses"
   ]
  },
  {
   "cell_type": "code",
   "execution_count": 5,
   "metadata": {},
   "outputs": [
    {
     "data": {
      "image/png": "[encoded data removed]",
      "text/plain": [
       "<matplotlib.figure.Figure at 0x7f72562a3eb8>"
      ]
     },
     "metadata": {},
     "output_type": "display_data"
    }
   ],
   "source": [
    "from util import plotHelper\n",
    "plotHelper.plotPie(totals['spectacles'])"
   ]
  },
  {
   "cell_type": "markdown",
   "metadata": {},
   "source": [
    "3 c) The distribution of subjects that had facial hair"
   ]
  },
  {
   "cell_type": "code",
   "execution_count": 6,
   "metadata": {},
   "outputs": [
    {
     "data": {
      "image/png": "[encoded data removed]",
      "text/plain": [
       "<matplotlib.figure.Figure at 0x7f725627b4a8>"
      ]
     },
     "metadata": {},
     "output_type": "display_data"
    }
   ],
   "source": [
    "from util import plotHelper\n",
    "plotHelper.plotPie(totals['facialHair'])"
   ]
  },
  {
   "cell_type": "markdown",
   "metadata": {},
   "source": [
    "3 d) Pose variance"
   ]
  },
  {
   "cell_type": "code",
   "execution_count": 7,
   "metadata": {},
   "outputs": [
    {
     "data": {
      "image/png": "[encoded data removed]",
      "text/plain": [
       "<matplotlib.figure.Figure at 0x7f72561ea390>"
      ]
     },
     "metadata": {},
     "output_type": "display_data"
    }
   ],
   "source": [
    "from util import plotHelper\n",
    "plotHelper.plotPie(totals['pose'])"
   ]
  },
  {
   "cell_type": "markdown",
   "metadata": {},
   "source": [
    "3 e) The range of quality"
   ]
  },
  {
   "cell_type": "code",
   "execution_count": 8,
   "metadata": {},
   "outputs": [
    {
     "data": {
      "image/png": "[encoded data removed]",
      "text/plain": [
       "<matplotlib.figure.Figure at 0x7f7256178e48>"
      ]
     },
     "metadata": {},
     "output_type": "display_data"
    }
   ],
   "source": [
    "from util import plotHelper\n",
    "plotHelper.plotPie(totals['quality'])"
   ]
  },
  {
   "cell_type": "markdown",
   "metadata": {},
   "source": [
    "3 f) Any occlusions"
   ]
  },
  {
   "cell_type": "code",
   "execution_count": 9,
   "metadata": {},
   "outputs": [
    {
     "data": {
      "image/png": "[encoded data removed]",
      "text/plain": [
       "<matplotlib.figure.Figure at 0x7f725614f160>"
      ]
     },
     "metadata": {},
     "output_type": "display_data"
    }
   ],
   "source": [
    "from util import plotHelper\n",
    "plotHelper.plotPie(totals['occlusion'])"
   ]
  },
  {
   "cell_type": "markdown",
   "metadata": {},
   "source": [
    "3 g) Distribution of subjects representing emotional states"
   ]
  },
  {
   "cell_type": "code",
   "execution_count": 10,
   "metadata": {},
   "outputs": [
    {
     "data": {
      "image/png": "[encoded data removed]",
      "text/plain": [
       "<matplotlib.figure.Figure at 0x7f72563075c0>"
      ]
     },
     "metadata": {},
     "output_type": "display_data"
    }
   ],
   "source": [
    "from util import plotHelper\n",
    "plotHelper.plotPie(totals['emotion'])"
   ]
  }
 ],
 "metadata": {
  "kernelspec": {
   "display_name": "Python 3",
   "language": "python",
   "name": "python3"
  },
  "language_info": {
   "codemirror_mode": {
    "name": "ipython",
    "version": 3
   },
   "file_extension": ".py",
   "mimetype": "text/x-python",
   "name": "python",
   "nbconvert_exporter": "python",
   "pygments_lexer": "ipython3",
   "version": "3.5.3"
  }
 },
 "nbformat": 4,
 "nbformat_minor": 2
}
